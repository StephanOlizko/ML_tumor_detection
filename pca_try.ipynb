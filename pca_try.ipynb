{
 "cells": [
  {
   "cell_type": "code",
   "execution_count": 14,
   "metadata": {},
   "outputs": [],
   "source": [
    "import numpy as np\n",
    "from sklearn.decomposition import PCA\n",
    "from sklearn.datasets import fetch_openml\n",
    "import matplotlib.pyplot as plt\n",
    "\n",
    "# Загрузка набора данных MNIST\n",
    "mnist = fetch_openml('mnist_784', version=1, as_frame=False)  # Используем as_frame=False для получения numpy массивов"
   ]
  },
  {
   "cell_type": "code",
   "execution_count": 32,
   "metadata": {},
   "outputs": [
    {
     "data": {
      "image/png": "[encoded data removed]",
      "text/plain": [
       "<Figure size 1000x200 with 5 Axes>"
      ]
     },
     "metadata": {},
     "output_type": "display_data"
    }
   ],
   "source": [
    "data = mnist.data / 255.0  # Нормализация данных\n",
    "images = data[:784]  # Возьмем первые 100 изображений\n",
    "\n",
    "# Визуализация нескольких исходных изображений\n",
    "fig, axes = plt.subplots(1, 5, figsize=(10, 2))\n",
    "for i, ax in enumerate(axes):\n",
    "    ax.imshow(images[i].reshape(28, 28), cmap='gray')\n",
    "    ax.axis('off')\n",
    "plt.show()\n"
   ]
  },
  {
   "cell_type": "code",
   "execution_count": 90,
   "metadata": {},
   "outputs": [],
   "source": [
    "# Центрирование данных\n",
    "data_mean = np.mean(images, axis=0)\n",
    "data_centered = images - data_mean\n",
    "\n",
    "n_components = 7\n",
    "\n",
    "# Выполнение PCA\n",
    "from sklearn.decomposition import PCA\n",
    "pca = PCA(n_components=n_components)\n",
    "pca.fit(data_centered)\n",
    "\n",
    "# Проекция данных в пространство главных компонент\n",
    "data_pca = pca.transform(data_centered)\n"
   ]
  },
  {
   "cell_type": "code",
   "execution_count": 91,
   "metadata": {},
   "outputs": [],
   "source": [
    "# Генерация новых данных\n",
    "num_new_samples = 5\n",
    "new_samples = []\n",
    "for _ in range(num_new_samples):\n",
    "    new_sample_pca = np.dot(np.random.randn(n_components), pca.components_)\n",
    "    new_sample = new_sample_pca + data_mean\n",
    "    new_samples.append(new_sample)\n",
    "\n",
    "new_samples = np.array(new_samples)\n"
   ]
  },
  {
   "cell_type": "code",
   "execution_count": 92,
   "metadata": {},
   "outputs": [
    {
     "data": {
      "image/png": "[encoded data removed]",
      "text/plain": [
       "<Figure size 1000x200 with 5 Axes>"
      ]
     },
     "metadata": {},
     "output_type": "display_data"
    }
   ],
   "source": [
    "# Визуализация новых изображений\n",
    "fig, axes = plt.subplots(1, 5, figsize=(10, 2))\n",
    "for i, ax in enumerate(axes):\n",
    "    ax.imshow(new_samples[i].reshape(28, 28), cmap='gray')\n",
    "    ax.axis('off')\n",
    "plt.show()\n"
   ]
  }
 ],
 "metadata": {
  "kernelspec": {
   "display_name": ".venv",
   "language": "python",
   "name": "python3"
  },
  "language_info": {
   "codemirror_mode": {
    "name": "ipython",
    "version": 3
   },
   "file_extension": ".py",
   "mimetype": "text/x-python",
   "name": "python",
   "nbconvert_exporter": "python",
   "pygments_lexer": "ipython3",
   "version": "3.7.9"
  }
 },
 "nbformat": 4,
 "nbformat_minor": 2
}
